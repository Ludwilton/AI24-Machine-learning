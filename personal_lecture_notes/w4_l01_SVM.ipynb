{
 "cells": [
  {
   "cell_type": "markdown",
   "metadata": {},
   "source": [
    "# support vector machines (SVM)\n",
    "Grundidé: hyperplan för att separera klasser\n"
   ]
  },
  {
   "cell_type": "markdown",
   "metadata": {},
   "source": [
    "### avstånd mellan punkt/plan\n",
    "\n",
    "$P0 = (X_0,Y_0,Z_0)$\n",
    "$A = (p, q r)$\n",
    "\n",
    "$$|0p| = \\frac{|(x_0-p)a + (y_0-q)b + (z_0-r)c|}{\\sqrt{a^2+b^2+c^2}}$$"
   ]
  },
  {
   "cell_type": "markdown",
   "metadata": {},
   "source": [
    "<=>"
   ]
  },
  {
   "cell_type": "markdown",
   "metadata": {},
   "source": [
    "$$\n",
    "\\frac{|u*n|}{n*n}|n|\n",
    "$$"
   ]
  },
  {
   "cell_type": "markdown",
   "metadata": {},
   "source": [
    "när normalen är en enhetsvektor: $|u*n| \\implies  $ enklare då  $|n| = 1$"
   ]
  },
  {
   "cell_type": "markdown",
   "metadata": {},
   "source": [
    "### maximal margin\n",
    "max $\\beta_0,...,\\beta_p$\n",
    "så att\n",
    "$\\sum\\limits_{j=1}^{p}\\beta_{i}^{2}=1$"
   ]
  },
  {
   "cell_type": "markdown",
   "metadata": {},
   "source": [
    "om marginalen måste vara tom så blir metoden väldigt känslig för brus $\\implies$ \"soft margin\"\n",
    "\n",
    "kernel trick:\n",
    "\n",
    "kernel: matris med vikter\n",
    "\n"
   ]
  }
 ],
 "metadata": {
  "kernelspec": {
   "display_name": ".venv",
   "language": "python",
   "name": "python3"
  },
  "language_info": {
   "name": "python",
   "version": "3.12.6"
  }
 },
 "nbformat": 4,
 "nbformat_minor": 2
}
