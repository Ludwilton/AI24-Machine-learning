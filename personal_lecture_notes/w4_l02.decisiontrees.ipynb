{
 "cells": [
  {
   "cell_type": "markdown",
   "metadata": {},
   "source": [
    "# Decision trees\n",
    "\n",
    "if ..  then ..  else..\n",
    "\n",
    "construct a binary tree over X\n",
    "$\\implies$ klass 1: X_1 < C_1, X_2 < C_2\n",
    "minimize entropy (shannon entropy)\n",
    "entropy increases with depth, so we prefer small trees, or so called \"stumps\" (3 nodes)\n",
    "\n",
    "decision trees are lienar, so we can break them up.\n",
    "\n",
    "let many trees vote for classification\n",
    "\n",
    "### random forest\n",
    "this method doesn't need scaling or normalization\n",
    "\n",
    "choose $x\\epsilon X$ and do a split\n",
    "\n",
    "right angled decision boundaries\n",
    "\n",
    "must be hyperparameter optimized\n",
    "hyper parameters are :\n",
    "max depth\n",
    "number of trees/estimators\n",
    "what metric ( entropy, gini ele(?))"
   ]
  }
 ],
 "metadata": {
  "language_info": {
   "name": "python"
  }
 },
 "nbformat": 4,
 "nbformat_minor": 2
}
