{
 "cells": [
  {
   "cell_type": "markdown",
   "metadata": {},
   "source": [
    "# vecka 2\n",
    "\n",
    "sammanfatta linjär regression(allmän linjär regression)\n",
    "\n",
    "gradient descent, maximum likelihood\n",
    "\n",
    "reguljärisering\n",
    "\n",
    "korsvalidering\n",
    "\n",
    "\n"
   ]
  },
  {
   "cell_type": "markdown",
   "metadata": {},
   "source": [
    "# allmän linjär regression\n",
    "\n",
    "vi söker linjära approximationer givet ett stickprov(träningsdata)\n",
    "\n"
   ]
  }
 ],
 "metadata": {
  "language_info": {
   "name": "python"
  }
 },
 "nbformat": 4,
 "nbformat_minor": 2
}
