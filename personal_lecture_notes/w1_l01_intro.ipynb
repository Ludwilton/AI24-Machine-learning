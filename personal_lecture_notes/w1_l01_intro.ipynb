{
 "cells": [
  {
   "cell_type": "markdown",
   "metadata": {},
   "source": [
    "kunskaper:\n",
    "\n",
    "typer av AI\n",
    "centrala gbeferpp och termer inom maskininlärning och AI, som bias, varians, overfit samt underfit, regression och klassifiering\n",
    "\n",
    "algoritmer inom unsupervised learning som klustring, kmeans, dbscan, grunderna i artifiella neurala nätverk, gradient descent och loss-funktioner, problemmodellering och problemlösning inom ai\n",
    "\n",
    "dimensionsreduceringstekninger som ex PCA\n",
    "\n",
    "färdigheter\n",
    "\n",
    "utföra en lämplig datauppdelning \"data shuffling\", samt undvika \"data leakage\"\n",
    "\n",
    "träna färdigimplementerade maskininlärningsalgoritmer och tolka \"loss-kurvor\"\n",
    "\n",
    "utföra inferens med ny data givet en färdigtränad modell\n",
    "\n",
    "utföra en enklare evaluering av maskininlörningsmodeller\n",
    "\n",
    "utföra enklare evaluering av maskininlärningsmodeller\n",
    "\n",
    "\n",
    "utföra enklare dimensionsreduceringstekniker / aka feature-engineering\n",
    "\n",
    "kompetenser:\n",
    "\n",
    "självständigt kunna utföra en enkel förbehandling av data, träna en maskininlörningsmodell samt använda modellen för inferens\n",
    "\n",
    "självständingt kunna utföra en enklare evaluering av resultat samt jämföra olika tekniker och modeller"
   ]
  }
 ],
 "metadata": {
  "language_info": {
   "name": "python"
  }
 },
 "nbformat": 4,
 "nbformat_minor": 2
}
