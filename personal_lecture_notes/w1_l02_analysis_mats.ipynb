{
 "cells": [
  {
   "cell_type": "markdown",
   "metadata": {},
   "source": [
    "### matematisk analys / envariabel-analys\n",
    "\n",
    "$f(x) $ - en funktion med \"x\" som parameter, enkelvärd, dsv $f(x)-x^2$ är i allmänhet inte en funktion. t.ex $\\pm 1$, dvs ej enkelvärd.\n",
    "\n",
    "om vi begränsar oss till bara + eller - så ÄR $f(x)=x^2$ en funktion\n",
    "\n",
    "e.g\n",
    "\n",
    "$x^2+y^2=1$\n",
    "\n",
    "$f(x, y) = x^2+y^2 - 1$\n",
    "\n",
    "$f(x,y,z,w) + xz + yw - 1$\n",
    "\n",
    "$x=z y=w \\implies x^{2}+y^2 -1$"
   ]
  },
  {
   "cell_type": "markdown",
   "metadata": {},
   "source": [
    "derivering\n",
    "\n",
    "$y=kx+m$\n",
    "\n",
    "$y^{'}= \\frac{d}{dx}y$ derivata\n",
    "\n",
    "$\\frac{d}{dx}ax^n=n*a*x^{n-1}$\n",
    "\n",
    "$\\frac{d}{dx}y=kx^0+0=k$\n",
    "\n"
   ]
  },
  {
   "cell_type": "markdown",
   "metadata": {},
   "source": [
    "### integrering(primitiv funktion)\n",
    "\n",
    "affin transformation\n",
    "\n",
    "$\\int x^2 \\implies \\frac{x^3}{3}+C$ "
   ]
  },
  {
   "cell_type": "markdown",
   "metadata": {},
   "source": [
    "### derivata i flera dimensioner\n",
    "\n",
    "$f(x_1, x_2,...,x_n)$, en flervariabel derivata kallas för en \"gradient\"\n",
    "\n",
    "$\\nabla f(x,y) = (\\frac{\\partial}{\\partial x} \\frac{\\partial}{\\partial y})$ partiell derivi \n"
   ]
  },
  {
   "cell_type": "markdown",
   "metadata": {},
   "source": [
    "stochastic gradient descent \"slumpmässigt nedåt längs gradienten\"\n"
   ]
  }
 ],
 "metadata": {
  "language_info": {
   "name": "python"
  }
 },
 "nbformat": 4,
 "nbformat_minor": 2
}
