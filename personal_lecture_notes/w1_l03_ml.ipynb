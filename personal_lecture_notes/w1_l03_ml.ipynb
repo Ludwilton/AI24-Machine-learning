{
 "cells": [
  {
   "cell_type": "markdown",
   "metadata": {},
   "source": [
    "# machine learning\n",
    "\n",
    "* data engineering: collects and preprocesses data\n",
    "  * what data is available\n",
    "  * how do we collect data?\n",
    "  * make it available?\n",
    "  * backups, etc.\n",
    "  * is it legal even?\n",
    "    * -anonymization\n",
    "* feature engineering\n",
    "  * huge topic\n",
    "* training (model fitting)\n",
    "* evaluate\n",
    "* deploy\n",
    "\n",
    "offline learning!\n",
    "once trained, no further model refinement is done.\n"
   ]
  },
  {
   "cell_type": "markdown",
   "metadata": {},
   "source": [
    "$RSS/SSE \\implies \\sum^{n}_{i=1}(y_{i}-\\hat{y}_i)^2$\n",
    "\n",
    "train/val/test split\n",
    "\n",
    "$MSE \\implies \\frac{1}{n} \\sum^{n}_{i=1}(y_{i}-\\hat{y}_i)^2$\n",
    "\n",
    "  * when n -> $\\infty$, mse -> 0 (only true if RSS/SSE us bounded(begränsad))\n",
    "  * we want to see standard error of the mean, but we have no unbiased estimate of SE($\\mu$)\n",
    "  * what do we do? RMSE on validation data!\n",
    "\n",
    "$RMSE = \\sqrt{MSE}$\n",
    "\n",
    "\n",
    "\n",
    "$RSE = \\sqrt{\\frac{1}{n-d-1}RSS}$ standardavvikelsen i felet, lack of fit, desto högre desto sämre förklaringsgrad\n",
    "\n",
    "  * this is unbiased if Y ≈ Z\n",
    "  * colinearity us only mathematically relevant for significance test!\n",
    "\n",
    "\n",
    "\n",
    "**this is for regressions, classification requires different evaluation metrics!**"
   ]
  }
 ],
 "metadata": {
  "kernelspec": {
   "display_name": ".venv",
   "language": "python",
   "name": "python3"
  },
  "language_info": {
   "name": "python",
   "version": "3.12.6"
  }
 },
 "nbformat": 4,
 "nbformat_minor": 2
}
