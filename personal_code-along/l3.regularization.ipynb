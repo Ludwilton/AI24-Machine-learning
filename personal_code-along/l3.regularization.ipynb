{
 "cells": [
  {
   "cell_type": "markdown",
   "metadata": {},
   "source": [
    "# regulärisering"
   ]
  },
  {
   "cell_type": "code",
   "execution_count": 54,
   "metadata": {},
   "outputs": [],
   "source": [
    "import numpy as np\n",
    "import pandas as pd\n",
    "import matplotlib.pyplot as plt\n",
    "from sklearn.preprocessing import PolynomialFeatures\n",
    "from sklearn.model_selection import train_test_split"
   ]
  },
  {
   "cell_type": "code",
   "execution_count": 55,
   "metadata": {},
   "outputs": [],
   "source": [
    "df = pd.read_csv(\"../data/Advertising.csv\", index_col=0)\n",
    "\n",
    "X, y = df.drop(\"Sales\", axis=1), df[\"Sales\"]\n",
    "\n"
   ]
  },
  {
   "cell_type": "code",
   "execution_count": 56,
   "metadata": {},
   "outputs": [
    {
     "data": {
      "text/plain": [
       "((134, 19), (66, 19), (134,), (66,))"
      ]
     },
     "execution_count": 56,
     "metadata": {},
     "output_type": "execute_result"
    }
   ],
   "source": [
    "# polynomiell feature expansion på hela datan\n",
    "\n",
    "model_poly = PolynomialFeatures(3, include_bias=False) \n",
    "poly_features = model_poly.fit_transform(X)\n",
    "\n",
    "X_train, X_test, y_train, y_test = train_test_split(poly_features,y, test_size=0.33, random_state=42)\n",
    "\n",
    "X_train.shape, X_test.shape, y_train.shape, y_test.shape\n",
    "\n"
   ]
  },
  {
   "cell_type": "code",
   "execution_count": 57,
   "metadata": {},
   "outputs": [
    {
     "name": "stdout",
     "output_type": "stream",
     "text": [
      "Scaled X_train mean -0.00 std: 1.00\n",
      "Scaled X_test mean -0.00 std: 1.12\n"
     ]
    }
   ],
   "source": [
    "from sklearn.preprocessing import StandardScaler\n",
    "scaler = StandardScaler()\n",
    "# alltid när vi gör klassifiering ska vi skalera\n",
    "scaled_X_train = scaler.fit_transform(X_train)\n",
    "scaled_X_test = scaler.transform((X_test))\n",
    "\n",
    "print(f\"Scaled X_train mean {scaled_X_train.mean():.2f} std: {scaled_X_train.std():.2f}\")\n",
    "print(f\"Scaled X_test mean {scaled_X_train.mean():.2f} std: {scaled_X_test.std():.2f}\")"
   ]
  },
  {
   "cell_type": "code",
   "execution_count": 58,
   "metadata": {},
   "outputs": [
    {
     "name": "stdout",
     "output_type": "stream",
     "text": [
      "penalty 0.2: MSE: 0.3176335944841091, RMSE: 0.5635899169468073, MAE:0.43430757663876474\n",
      "penalty 0: MSE: 0.26504659505538464, RMSE: 0.5148267621786815, MAE:0.3748516441217824\n"
     ]
    }
   ],
   "source": [
    "from sklearn.linear_model import Ridge\n",
    "from sklearn.metrics import mean_squared_error, mean_absolute_error, root_mean_squared_error\n",
    "\n",
    "def ridge_regression(X, penalty=0): #penalty = 0 = lambda 0 =  alpha?\n",
    "    model_ridge = Ridge(alpha=penalty)\n",
    "    model_ridge.fit(scaled_X_train,y_train)\n",
    "    y_pred = model_ridge.predict(X)\n",
    "    return y_pred\n",
    "y_pred = ridge_regression(scaled_X_test, penalty=0.1)\n",
    "\n",
    "MSE = mean_squared_error(y_test,y_pred)\n",
    "RMSE = root_mean_squared_error(y_test,y_pred)\n",
    "MAE = mean_absolute_error(y_test, y_pred)\n",
    "\n",
    "print(f\"penalty 0.2: MSE: {MSE}, RMSE: {RMSE}, MAE:{MAE}\")\n",
    "\n",
    "y_pred = ridge_regression(scaled_X_test, penalty=0)\n",
    "\n",
    "MSE = mean_squared_error(y_test,y_pred)\n",
    "RMSE = root_mean_squared_error(y_test,y_pred)\n",
    "MAE = mean_absolute_error(y_test, y_pred)\n",
    "\n",
    "print(f\"penalty 0: MSE: {MSE}, RMSE: {RMSE}, MAE:{MAE}\")\n",
    "\n"
   ]
  },
  {
   "cell_type": "code",
   "execution_count": 59,
   "metadata": {},
   "outputs": [
    {
     "name": "stdout",
     "output_type": "stream",
     "text": [
      "0.7853962108799019 0.5735346450114959\n"
     ]
    },
    {
     "data": {
      "text/plain": [
       "array([ 1.89480144,  0.42062367,  0.        , -0.        ,  3.55216501,\n",
       "        0.        ,  0.        ,  0.01110965,  0.        , -0.42677394,\n",
       "       -0.        , -0.        ,  0.        ,  0.        , -0.        ,\n",
       "        0.        ,  0.06706906,  0.        ,  0.        ])"
      ]
     },
     "execution_count": 59,
     "metadata": {},
     "output_type": "execute_result"
    }
   ],
   "source": [
    "from sklearn.linear_model import Lasso\n",
    "model_lasso = Lasso(alpha=0.1)\n",
    "model_lasso.fit(scaled_X_train, y_train)\n",
    "y_pred = model_lasso.predict(scaled_X_test)\n",
    "print(root_mean_squared_error(y_test, y_pred), mean_absolute_error(y_test, y_pred))\n",
    "\n",
    "model_lasso.coef_"
   ]
  },
  {
   "cell_type": "code",
   "execution_count": null,
   "metadata": {},
   "outputs": [
    {
     "name": "stdout",
     "output_type": "stream",
     "text": [
      "0.1\n"
     ]
    }
   ],
   "source": [
    "''' \n",
    "k-fold cross validation, vi sorterar träningsdatan slumpmässigt och delar upp i k olika grupper\n",
    " och för varje så tar vi en testa o sen tränar på resten sen börjar om osv,osv\n",
    " bra för små dataset, hyperparameter optimering, problemet är att det blir väldigt dyrt men resultatet\n",
    " blir oftast väldigt bra\n",
    "'''\n",
    "\n",
    "from sklearn.linear_model import RidgeCV\n",
    "\n",
    "model_ridgeCV = RidgeCV(alphas=[.0001,.001,.01,.1,.5,1,5,10], scoring=\"neg_mean_squared_error\")\n",
    "\n",
    "model_ridgeCV.fit(scaled_X_train,y_train)\n",
    "print(model_ridgeCV.alpha_)"
   ]
  },
  {
   "cell_type": "code",
   "execution_count": 68,
   "metadata": {},
   "outputs": [
    {
     "name": "stdout",
     "output_type": "stream",
     "text": [
      "RMSE0.5785146895301946, MAE: 0.46291883026932745, alpha: 0.004968802520343366\n"
     ]
    }
   ],
   "source": [
    "from sklearn.linear_model import LassoCV\n",
    "\n",
    "model_lassoCV = LassoCV(eps=0.001, n_alphas=100, max_iter=10000, cv=5)\n",
    "\n",
    "model_lassoCV.fit(scaled_X_train,y_train)\n",
    "\n",
    "y_pred = model_lassoCV.predict(scaled_X_test)\n",
    "\n",
    "print(f\"RMSE{root_mean_squared_error(y_test,y_pred)}, MAE: {mean_absolute_error(y_test,y_pred)}, alpha: {model_lassoCV.alpha_}\")"
   ]
  },
  {
   "cell_type": "code",
   "execution_count": 70,
   "metadata": {},
   "outputs": [
    {
     "data": {
      "text/plain": [
       "(np.float64(1.0),\n",
       " np.float64(0.004968802520343366),\n",
       " 0.5785146895301946,\n",
       " 0.46291883026932745)"
      ]
     },
     "execution_count": 70,
     "metadata": {},
     "output_type": "execute_result"
    }
   ],
   "source": [
    "from sklearn.linear_model import ElasticNetCV\n",
    "model_elastic = ElasticNetCV(l1_ratio=[.1,.5,.7,.9,.95,.97,1], eps=0.001, n_alphas=100, max_iter=10000)\n",
    "model_elastic.fit(scaled_X_train,y_train)\n",
    "y_pred = model_elastic.predict(scaled_X_test)\n",
    "\n",
    "model_elastic.l1_ratio_, model_elastic.alpha_, root_mean_squared_error(y_test,y_pred), mean_absolute_error(y_test,y_pred)"
   ]
  }
 ],
 "metadata": {
  "kernelspec": {
   "display_name": ".venv",
   "language": "python",
   "name": "python3"
  },
  "language_info": {
   "codemirror_mode": {
    "name": "ipython",
    "version": 3
   },
   "file_extension": ".py",
   "mimetype": "text/x-python",
   "name": "python",
   "nbconvert_exporter": "python",
   "pygments_lexer": "ipython3",
   "version": "3.12.6"
  }
 },
 "nbformat": 4,
 "nbformat_minor": 2
}
