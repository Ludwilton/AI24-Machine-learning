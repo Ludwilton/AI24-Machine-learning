{
 "cells": [
  {
   "cell_type": "code",
   "execution_count": 8,
   "metadata": {},
   "outputs": [
    {
     "data": {
      "text/plain": [
       "0        Adventure|Animation|Children|Comedy|Fantasy\n",
       "1                         Adventure|Children|Fantasy\n",
       "2                                     Comedy|Romance\n",
       "3                               Comedy|Drama|Romance\n",
       "4                                             Comedy\n",
       "                            ...                     \n",
       "86532                                   Action|Drama\n",
       "86533                                  Action|Horror\n",
       "86534                                    Documentary\n",
       "86535                                 Crime|Thriller\n",
       "86536                                    Documentary\n",
       "Name: genres, Length: 86537, dtype: object"
      ]
     },
     "execution_count": 8,
     "metadata": {},
     "output_type": "execute_result"
    }
   ],
   "source": [
    "import pandas as pd\n",
    "\n",
    "df = pd.read_csv(\"../data/ml-latest/movies.csv\")\n",
    "\n",
    "df[\"genres\"]"
   ]
  },
  {
   "cell_type": "code",
   "execution_count": 9,
   "metadata": {},
   "outputs": [],
   "source": [
    "df2 = pd.read_csv(\"../data/ml-latest/ratings.csv\")\n",
    "\n"
   ]
  },
  {
   "cell_type": "code",
   "execution_count": 10,
   "metadata": {},
   "outputs": [
    {
     "data": {
      "application/vnd.microsoft.datawrangler.viewer.v0+json": {
       "columns": [
        {
         "name": "index",
         "rawType": "int64",
         "type": "integer"
        },
        {
         "name": "userId",
         "rawType": "int64",
         "type": "integer"
        },
        {
         "name": "movieId",
         "rawType": "int64",
         "type": "integer"
        },
        {
         "name": "rating",
         "rawType": "float64",
         "type": "float"
        },
        {
         "name": "timestamp",
         "rawType": "int64",
         "type": "integer"
        }
       ],
       "conversionMethod": "pd.DataFrame",
       "ref": "e30a78a9-c806-4897-be84-4d3574e20bdb",
       "rows": [
        [
         "3529",
         "37",
         "47",
         "5.0",
         "1578167234"
        ],
        [
         "3530",
         "37",
         "165",
         "4.0",
         "1578164102"
        ],
        [
         "3531",
         "37",
         "293",
         "5.0",
         "1578165504"
        ],
        [
         "3532",
         "37",
         "318",
         "5.0",
         "1578167144"
        ],
        [
         "3533",
         "37",
         "480",
         "4.0",
         "1578166074"
        ],
        [
         "3534",
         "37",
         "527",
         "5.0",
         "1578163105"
        ],
        [
         "3535",
         "37",
         "541",
         "4.5",
         "1578164891"
        ],
        [
         "3536",
         "37",
         "593",
         "4.5",
         "1578163249"
        ],
        [
         "3537",
         "37",
         "1036",
         "5.0",
         "1578164023"
        ],
        [
         "3538",
         "37",
         "1127",
         "4.5",
         "1578166447"
        ],
        [
         "3539",
         "37",
         "1196",
         "4.5",
         "1578164185"
        ],
        [
         "3540",
         "37",
         "1214",
         "5.0",
         "1578163860"
        ],
        [
         "3541",
         "37",
         "1240",
         "4.0",
         "1578164604"
        ],
        [
         "3542",
         "37",
         "1653",
         "4.5",
         "1578164442"
        ],
        [
         "3543",
         "37",
         "2028",
         "4.5",
         "1578171228"
        ],
        [
         "3544",
         "37",
         "2329",
         "4.5",
         "1580769445"
        ],
        [
         "3545",
         "37",
         "2391",
         "5.0",
         "1578165669"
        ],
        [
         "3546",
         "37",
         "2403",
         "4.0",
         "1578181976"
        ],
        [
         "3547",
         "37",
         "2571",
         "5.0",
         "1578163305"
        ],
        [
         "3548",
         "37",
         "2761",
         "4.5",
         "1629842944"
        ],
        [
         "3549",
         "37",
         "3020",
         "4.0",
         "1578165764"
        ],
        [
         "3550",
         "37",
         "3578",
         "5.0",
         "1578166164"
        ],
        [
         "3551",
         "37",
         "4022",
         "4.0",
         "1578165621"
        ],
        [
         "3552",
         "37",
         "4226",
         "4.5",
         "1578164914"
        ],
        [
         "3553",
         "37",
         "4993",
         "5.0",
         "1578166634"
        ],
        [
         "3554",
         "37",
         "5418",
         "4.0",
         "1578165017"
        ],
        [
         "3555",
         "37",
         "5574",
         "4.0",
         "1578170978"
        ],
        [
         "3556",
         "37",
         "5952",
         "5.0",
         "1578167688"
        ],
        [
         "3557",
         "37",
         "6016",
         "4.5",
         "1578165723"
        ],
        [
         "3558",
         "37",
         "6365",
         "2.5",
         "1578168978"
        ],
        [
         "3559",
         "37",
         "6934",
         "3.0",
         "1578169012"
        ],
        [
         "3560",
         "37",
         "7153",
         "5.0",
         "1578167741"
        ],
        [
         "3561",
         "37",
         "7254",
         "4.0",
         "1602629023"
        ],
        [
         "3562",
         "37",
         "7361",
         "4.5",
         "1578165038"
        ],
        [
         "3563",
         "37",
         "7458",
         "4.0",
         "1578168370"
        ],
        [
         "3564",
         "37",
         "8368",
         "5.0",
         "1578168107"
        ],
        [
         "3565",
         "37",
         "8644",
         "4.0",
         "1578163772"
        ],
        [
         "3566",
         "37",
         "8961",
         "4.0",
         "1578166887"
        ],
        [
         "3567",
         "37",
         "33493",
         "3.5",
         "1578165258"
        ],
        [
         "3568",
         "37",
         "33794",
         "4.5",
         "1578167890"
        ],
        [
         "3569",
         "37",
         "34319",
         "4.0",
         "1578168649"
        ],
        [
         "3570",
         "37",
         "37733",
         "4.0",
         "1578165647"
        ],
        [
         "3571",
         "37",
         "48774",
         "5.0",
         "1578164317"
        ],
        [
         "3572",
         "37",
         "49272",
         "4.0",
         "1578167080"
        ],
        [
         "3573",
         "37",
         "52328",
         "5.0",
         "1578167821"
        ],
        [
         "3574",
         "37",
         "55820",
         "4.5",
         "1578166576"
        ],
        [
         "3575",
         "37",
         "56174",
         "4.0",
         "1578168936"
        ],
        [
         "3576",
         "37",
         "58559",
         "5.0",
         "1578163607"
        ],
        [
         "3577",
         "37",
         "59315",
         "4.5",
         "1578166277"
        ],
        [
         "3578",
         "37",
         "60074",
         "4.0",
         "1578168826"
        ]
       ],
       "shape": {
        "columns": 4,
        "rows": 102
       }
      },
      "text/html": [
       "<div>\n",
       "<style scoped>\n",
       "    .dataframe tbody tr th:only-of-type {\n",
       "        vertical-align: middle;\n",
       "    }\n",
       "\n",
       "    .dataframe tbody tr th {\n",
       "        vertical-align: top;\n",
       "    }\n",
       "\n",
       "    .dataframe thead th {\n",
       "        text-align: right;\n",
       "    }\n",
       "</style>\n",
       "<table border=\"1\" class=\"dataframe\">\n",
       "  <thead>\n",
       "    <tr style=\"text-align: right;\">\n",
       "      <th></th>\n",
       "      <th>userId</th>\n",
       "      <th>movieId</th>\n",
       "      <th>rating</th>\n",
       "      <th>timestamp</th>\n",
       "    </tr>\n",
       "  </thead>\n",
       "  <tbody>\n",
       "    <tr>\n",
       "      <th>3529</th>\n",
       "      <td>37</td>\n",
       "      <td>47</td>\n",
       "      <td>5.0</td>\n",
       "      <td>1578167234</td>\n",
       "    </tr>\n",
       "    <tr>\n",
       "      <th>3530</th>\n",
       "      <td>37</td>\n",
       "      <td>165</td>\n",
       "      <td>4.0</td>\n",
       "      <td>1578164102</td>\n",
       "    </tr>\n",
       "    <tr>\n",
       "      <th>3531</th>\n",
       "      <td>37</td>\n",
       "      <td>293</td>\n",
       "      <td>5.0</td>\n",
       "      <td>1578165504</td>\n",
       "    </tr>\n",
       "    <tr>\n",
       "      <th>3532</th>\n",
       "      <td>37</td>\n",
       "      <td>318</td>\n",
       "      <td>5.0</td>\n",
       "      <td>1578167144</td>\n",
       "    </tr>\n",
       "    <tr>\n",
       "      <th>3533</th>\n",
       "      <td>37</td>\n",
       "      <td>480</td>\n",
       "      <td>4.0</td>\n",
       "      <td>1578166074</td>\n",
       "    </tr>\n",
       "    <tr>\n",
       "      <th>...</th>\n",
       "      <td>...</td>\n",
       "      <td>...</td>\n",
       "      <td>...</td>\n",
       "      <td>...</td>\n",
       "    </tr>\n",
       "    <tr>\n",
       "      <th>3626</th>\n",
       "      <td>37</td>\n",
       "      <td>208205</td>\n",
       "      <td>0.5</td>\n",
       "      <td>1578182179</td>\n",
       "    </tr>\n",
       "    <tr>\n",
       "      <th>3627</th>\n",
       "      <td>37</td>\n",
       "      <td>208703</td>\n",
       "      <td>5.0</td>\n",
       "      <td>1579355120</td>\n",
       "    </tr>\n",
       "    <tr>\n",
       "      <th>3628</th>\n",
       "      <td>37</td>\n",
       "      <td>214644</td>\n",
       "      <td>4.0</td>\n",
       "      <td>1629836086</td>\n",
       "    </tr>\n",
       "    <tr>\n",
       "      <th>3629</th>\n",
       "      <td>37</td>\n",
       "      <td>228563</td>\n",
       "      <td>4.5</td>\n",
       "      <td>1619897189</td>\n",
       "    </tr>\n",
       "    <tr>\n",
       "      <th>3630</th>\n",
       "      <td>37</td>\n",
       "      <td>242364</td>\n",
       "      <td>3.0</td>\n",
       "      <td>1629842871</td>\n",
       "    </tr>\n",
       "  </tbody>\n",
       "</table>\n",
       "<p>102 rows × 4 columns</p>\n",
       "</div>"
      ],
      "text/plain": [
       "      userId  movieId  rating   timestamp\n",
       "3529      37       47     5.0  1578167234\n",
       "3530      37      165     4.0  1578164102\n",
       "3531      37      293     5.0  1578165504\n",
       "3532      37      318     5.0  1578167144\n",
       "3533      37      480     4.0  1578166074\n",
       "...      ...      ...     ...         ...\n",
       "3626      37   208205     0.5  1578182179\n",
       "3627      37   208703     5.0  1579355120\n",
       "3628      37   214644     4.0  1629836086\n",
       "3629      37   228563     4.5  1619897189\n",
       "3630      37   242364     3.0  1629842871\n",
       "\n",
       "[102 rows x 4 columns]"
      ]
     },
     "execution_count": 10,
     "metadata": {},
     "output_type": "execute_result"
    }
   ],
   "source": [
    "df2[df2[\"userId\"]== 37]"
   ]
  },
  {
   "cell_type": "code",
   "execution_count": null,
   "metadata": {},
   "outputs": [],
   "source": [
    "df3 = pd.read_csv(\"../data/ml-latest/tags.csv\")\n",
    "\n",
    "df3"
   ]
  },
  {
   "cell_type": "code",
   "execution_count": 25,
   "metadata": {},
   "outputs": [
    {
     "data": {
      "application/vnd.microsoft.datawrangler.viewer.v0+json": {
       "columns": [
        {
         "name": "Date",
         "rawType": "object",
         "type": "string"
        },
        {
         "name": "Name",
         "rawType": "object",
         "type": "string"
        },
        {
         "name": "Year",
         "rawType": "int64",
         "type": "integer"
        },
        {
         "name": "Rating",
         "rawType": "float64",
         "type": "float"
        }
       ],
       "conversionMethod": "pd.DataFrame",
       "ref": "f6ccbdc2-50eb-4b62-971b-3a30dad093d1",
       "rows": [
        [
         "2020-08-25",
         "Interstellar",
         "2014",
         "5.0"
        ],
        [
         "2020-08-25",
         "Jojo Rabbit",
         "2019",
         "4.0"
        ],
        [
         "2020-08-25",
         "Parasite",
         "2019",
         "5.0"
        ],
        [
         "2020-08-25",
         "The Dark Knight",
         "2008",
         "5.0"
        ],
        [
         "2020-08-25",
         "Baby Driver",
         "2017",
         "3.5"
        ],
        [
         "2020-08-25",
         "Rocky",
         "1976",
         "3.0"
        ],
        [
         "2020-08-25",
         "The Prestige",
         "2006",
         "4.5"
        ],
        [
         "2020-08-25",
         "Dunkirk",
         "2017",
         "3.5"
        ],
        [
         "2020-08-25",
         "The Dark Knight Rises",
         "2012",
         "3.5"
        ],
        [
         "2020-10-05",
         "American Murder: The Family Next Door",
         "2020",
         "2.5"
        ],
        [
         "2021-06-13",
         "Bo Burnham: Inside",
         "2021",
         "5.0"
        ],
        [
         "2021-08-13",
         "Bird Box",
         "2018",
         "2.0"
        ],
        [
         "2021-08-13",
         "Dave Chappelle: Deep in the Heart of Texas",
         "2017",
         "3.5"
        ],
        [
         "2021-08-13",
         "Seaspiracy",
         "2021",
         "4.0"
        ],
        [
         "2021-08-13",
         "Icarus",
         "2017",
         "4.0"
        ],
        [
         "2021-08-13",
         "The Social Dilemma",
         "2020",
         "2.5"
        ],
        [
         "2021-08-13",
         "Okja",
         "2017",
         "4.0"
        ],
        [
         "2021-08-13",
         "Bright",
         "2017",
         "1.5"
        ],
        [
         "2021-08-13",
         "Blade Runner 2049",
         "2017",
         "5.0"
        ],
        [
         "2021-08-13",
         "Gone Girl",
         "2014",
         "4.5"
        ],
        [
         "2021-09-19",
         "Dune",
         "2021",
         "5.0"
        ],
        [
         "2021-09-19",
         "Free Guy",
         "2021",
         "3.5"
        ],
        [
         "2021-09-19",
         "Spider-Man: Into the Spider-Verse",
         "2018",
         "5.0"
        ],
        [
         "2021-09-19",
         "The Lion King",
         "1994",
         "4.0"
        ],
        [
         "2021-09-19",
         "The Lord of the Rings: The Two Towers",
         "2002",
         "4.5"
        ],
        [
         "2021-09-19",
         "Forrest Gump",
         "1994",
         "4.5"
        ],
        [
         "2021-09-19",
         "The Lord of the Rings: The Fellowship of the Ring",
         "2001",
         "4.5"
        ],
        [
         "2021-09-19",
         "The Lord of the Rings: The Return of the King",
         "2003",
         "5.0"
        ],
        [
         "2021-09-19",
         "No Country for Old Men",
         "2007",
         "5.0"
        ],
        [
         "2021-09-19",
         "WALL·E",
         "2008",
         "4.5"
        ],
        [
         "2021-09-19",
         "Die Hard",
         "1988",
         "3.5"
        ],
        [
         "2021-09-19",
         "Heat",
         "1995",
         "4.0"
        ],
        [
         "2021-09-19",
         "The Matrix",
         "1999",
         "4.0"
        ],
        [
         "2021-09-19",
         "Gladiator",
         "2000",
         "4.0"
        ],
        [
         "2021-09-19",
         "Up",
         "2009",
         "4.0"
        ],
        [
         "2021-09-19",
         "Django Unchained",
         "2012",
         "4.5"
        ],
        [
         "2021-09-19",
         "The Empire Strikes Back",
         "1980",
         "4.5"
        ],
        [
         "2022-06-13",
         "Top Gun: Maverick",
         "2022",
         "3.5"
        ],
        [
         "2022-06-13",
         "1917",
         "2019",
         "3.5"
        ],
        [
         "2022-06-13",
         "Arrival",
         "2016",
         "4.0"
        ],
        [
         "2023-06-07",
         "Spider-Man: Across the Spider-Verse",
         "2023",
         "5.0"
        ],
        [
         "2023-08-21",
         "Oppenheimer",
         "2023",
         "4.5"
        ],
        [
         "2023-08-21",
         "Guardians of the Galaxy Vol. 3",
         "2023",
         "4.0"
        ],
        [
         "2023-08-21",
         "Everything Everywhere All at Once",
         "2022",
         "5.0"
        ],
        [
         "2023-08-21",
         "Inglourious Basterds",
         "2009",
         "4.0"
        ],
        [
         "2023-08-21",
         "The Shining",
         "1980",
         "3.5"
        ],
        [
         "2023-08-21",
         "The Truman Show",
         "1998",
         "4.0"
        ],
        [
         "2023-08-21",
         "Midsommar",
         "2019",
         "4.0"
        ],
        [
         "2023-08-21",
         "Kill Bill: Vol. 1",
         "2003",
         "3.0"
        ],
        [
         "2023-08-21",
         "American Psycho",
         "2000",
         "4.5"
        ]
       ],
       "shape": {
        "columns": 3,
        "rows": 467
       }
      },
      "text/html": [
       "<div>\n",
       "<style scoped>\n",
       "    .dataframe tbody tr th:only-of-type {\n",
       "        vertical-align: middle;\n",
       "    }\n",
       "\n",
       "    .dataframe tbody tr th {\n",
       "        vertical-align: top;\n",
       "    }\n",
       "\n",
       "    .dataframe thead th {\n",
       "        text-align: right;\n",
       "    }\n",
       "</style>\n",
       "<table border=\"1\" class=\"dataframe\">\n",
       "  <thead>\n",
       "    <tr style=\"text-align: right;\">\n",
       "      <th></th>\n",
       "      <th>Name</th>\n",
       "      <th>Year</th>\n",
       "      <th>Rating</th>\n",
       "    </tr>\n",
       "    <tr>\n",
       "      <th>Date</th>\n",
       "      <th></th>\n",
       "      <th></th>\n",
       "      <th></th>\n",
       "    </tr>\n",
       "  </thead>\n",
       "  <tbody>\n",
       "    <tr>\n",
       "      <th>2020-08-25</th>\n",
       "      <td>Interstellar</td>\n",
       "      <td>2014</td>\n",
       "      <td>5.0</td>\n",
       "    </tr>\n",
       "    <tr>\n",
       "      <th>2020-08-25</th>\n",
       "      <td>Jojo Rabbit</td>\n",
       "      <td>2019</td>\n",
       "      <td>4.0</td>\n",
       "    </tr>\n",
       "    <tr>\n",
       "      <th>2020-08-25</th>\n",
       "      <td>Parasite</td>\n",
       "      <td>2019</td>\n",
       "      <td>5.0</td>\n",
       "    </tr>\n",
       "    <tr>\n",
       "      <th>2020-08-25</th>\n",
       "      <td>The Dark Knight</td>\n",
       "      <td>2008</td>\n",
       "      <td>5.0</td>\n",
       "    </tr>\n",
       "    <tr>\n",
       "      <th>2020-08-25</th>\n",
       "      <td>Baby Driver</td>\n",
       "      <td>2017</td>\n",
       "      <td>3.5</td>\n",
       "    </tr>\n",
       "    <tr>\n",
       "      <th>...</th>\n",
       "      <td>...</td>\n",
       "      <td>...</td>\n",
       "      <td>...</td>\n",
       "    </tr>\n",
       "    <tr>\n",
       "      <th>2025-03-11</th>\n",
       "      <td>Cinema Paradiso</td>\n",
       "      <td>1988</td>\n",
       "      <td>3.5</td>\n",
       "    </tr>\n",
       "    <tr>\n",
       "      <th>2025-03-11</th>\n",
       "      <td>The Theory of Everything</td>\n",
       "      <td>2014</td>\n",
       "      <td>4.0</td>\n",
       "    </tr>\n",
       "    <tr>\n",
       "      <th>2025-03-16</th>\n",
       "      <td>Her</td>\n",
       "      <td>2013</td>\n",
       "      <td>4.5</td>\n",
       "    </tr>\n",
       "    <tr>\n",
       "      <th>2025-03-18</th>\n",
       "      <td>The Holdovers</td>\n",
       "      <td>2023</td>\n",
       "      <td>4.0</td>\n",
       "    </tr>\n",
       "    <tr>\n",
       "      <th>2025-03-19</th>\n",
       "      <td>The Princess Bride</td>\n",
       "      <td>1987</td>\n",
       "      <td>4.5</td>\n",
       "    </tr>\n",
       "  </tbody>\n",
       "</table>\n",
       "<p>467 rows × 3 columns</p>\n",
       "</div>"
      ],
      "text/plain": [
       "                                Name  Year  Rating\n",
       "Date                                              \n",
       "2020-08-25              Interstellar  2014     5.0\n",
       "2020-08-25               Jojo Rabbit  2019     4.0\n",
       "2020-08-25                  Parasite  2019     5.0\n",
       "2020-08-25           The Dark Knight  2008     5.0\n",
       "2020-08-25               Baby Driver  2017     3.5\n",
       "...                              ...   ...     ...\n",
       "2025-03-11           Cinema Paradiso  1988     3.5\n",
       "2025-03-11  The Theory of Everything  2014     4.0\n",
       "2025-03-16                       Her  2013     4.5\n",
       "2025-03-18             The Holdovers  2023     4.0\n",
       "2025-03-19        The Princess Bride  1987     4.5\n",
       "\n",
       "[467 rows x 3 columns]"
      ]
     },
     "execution_count": 25,
     "metadata": {},
     "output_type": "execute_result"
    }
   ],
   "source": [
    "ltrbxd = pd.read_csv(\"../data/letterboxd-lddec-2025-03-24-09-32-utc/ratings.csv\", index_col=0)\n",
    "\n",
    "ltrbxd = ltrbxd.drop(columns=[\"Letterboxd URI\"])\n",
    "\n",
    "\n",
    "ltrbxd\n"
   ]
  }
 ],
 "metadata": {
  "kernelspec": {
   "display_name": ".venv",
   "language": "python",
   "name": "python3"
  },
  "language_info": {
   "codemirror_mode": {
    "name": "ipython",
    "version": 3
   },
   "file_extension": ".py",
   "mimetype": "text/x-python",
   "name": "python",
   "nbconvert_exporter": "python",
   "pygments_lexer": "ipython3",
   "version": "3.12.6"
  }
 },
 "nbformat": 4,
 "nbformat_minor": 2
}
